{
 "cells": [
  {
   "cell_type": "code",
   "execution_count": 39,
   "id": "3d7312da-a570-4713-9a08-8262b816f025",
   "metadata": {
    "tags": []
   },
   "outputs": [
    {
     "name": "stderr",
     "output_type": "stream",
     "text": [
      "<>:8: SyntaxWarning: invalid escape sequence '\\T'\n",
      "<>:8: SyntaxWarning: invalid escape sequence '\\T'\n",
      "C:\\Users\\ADMIN\\AppData\\Local\\Temp\\ipykernel_26800\\2857794504.py:8: SyntaxWarning: invalid escape sequence '\\T'\n",
      "  df = pd.read_excel('D:\\Thực tập nghề nghiệp\\DA_Khách hàng rời bỏ dịch vụ\\Customer_Churn_TXL2.xlsx')\n"
     ]
    },
    {
     "data": {
      "text/html": [
       "<div>\n",
       "<style scoped>\n",
       "    .dataframe tbody tr th:only-of-type {\n",
       "        vertical-align: middle;\n",
       "    }\n",
       "\n",
       "    .dataframe tbody tr th {\n",
       "        vertical-align: top;\n",
       "    }\n",
       "\n",
       "    .dataframe thead th {\n",
       "        text-align: right;\n",
       "    }\n",
       "</style>\n",
       "<table border=\"1\" class=\"dataframe\">\n",
       "  <thead>\n",
       "    <tr style=\"text-align: right;\">\n",
       "      <th></th>\n",
       "      <th>Churn</th>\n",
       "      <th>tenure</th>\n",
       "      <th>InternetService</th>\n",
       "      <th>OnlineSecurity</th>\n",
       "      <th>TechSupport</th>\n",
       "      <th>Contract</th>\n",
       "      <th>PaymentMethod</th>\n",
       "    </tr>\n",
       "  </thead>\n",
       "  <tbody>\n",
       "    <tr>\n",
       "      <th>0</th>\n",
       "      <td>0</td>\n",
       "      <td>1</td>\n",
       "      <td>0</td>\n",
       "      <td>0</td>\n",
       "      <td>0</td>\n",
       "      <td>0</td>\n",
       "      <td>2</td>\n",
       "    </tr>\n",
       "    <tr>\n",
       "      <th>1</th>\n",
       "      <td>0</td>\n",
       "      <td>34</td>\n",
       "      <td>0</td>\n",
       "      <td>2</td>\n",
       "      <td>0</td>\n",
       "      <td>1</td>\n",
       "      <td>3</td>\n",
       "    </tr>\n",
       "    <tr>\n",
       "      <th>2</th>\n",
       "      <td>1</td>\n",
       "      <td>2</td>\n",
       "      <td>0</td>\n",
       "      <td>2</td>\n",
       "      <td>0</td>\n",
       "      <td>0</td>\n",
       "      <td>3</td>\n",
       "    </tr>\n",
       "    <tr>\n",
       "      <th>3</th>\n",
       "      <td>0</td>\n",
       "      <td>45</td>\n",
       "      <td>0</td>\n",
       "      <td>2</td>\n",
       "      <td>2</td>\n",
       "      <td>1</td>\n",
       "      <td>0</td>\n",
       "    </tr>\n",
       "    <tr>\n",
       "      <th>4</th>\n",
       "      <td>1</td>\n",
       "      <td>2</td>\n",
       "      <td>1</td>\n",
       "      <td>0</td>\n",
       "      <td>0</td>\n",
       "      <td>0</td>\n",
       "      <td>2</td>\n",
       "    </tr>\n",
       "  </tbody>\n",
       "</table>\n",
       "</div>"
      ],
      "text/plain": [
       "   Churn  tenure  InternetService  OnlineSecurity  TechSupport  Contract  \\\n",
       "0      0       1                0               0            0         0   \n",
       "1      0      34                0               2            0         1   \n",
       "2      1       2                0               2            0         0   \n",
       "3      0      45                0               2            2         1   \n",
       "4      1       2                1               0            0         0   \n",
       "\n",
       "   PaymentMethod  \n",
       "0              2  \n",
       "1              3  \n",
       "2              3  \n",
       "3              0  \n",
       "4              2  "
      ]
     },
     "execution_count": 39,
     "metadata": {},
     "output_type": "execute_result"
    }
   ],
   "source": [
    "import numpy as np\n",
    "import pandas as pd\n",
    "from sklearn.model_selection import train_test_split\n",
    "from sklearn.linear_model import LogisticRegression\n",
    "from sklearn.metrics import accuracy_score, classification_report, confusion_matrix\n",
    "from sklearn.preprocessing import StandardScaler\n",
    "\n",
    "df = pd.read_excel('D:\\Thực tập nghề nghiệp\\DA_Khách hàng rời bỏ dịch vụ\\Customer_Churn_TXL2.xlsx')\n",
    "df.head()"
   ]
  },
  {
   "cell_type": "code",
   "execution_count": 40,
   "id": "a784df46-a0c2-48de-9a5e-8cb790c78668",
   "metadata": {
    "tags": []
   },
   "outputs": [],
   "source": [
    "# Chia dữ liệu thành features (X) và target (y)\n",
    "X = df.drop(['Churn'], axis=1)\n",
    "y = df['Churn']"
   ]
  },
  {
   "cell_type": "code",
   "execution_count": 41,
   "id": "979fe9cd-659f-4b28-bb11-f65da9a7212d",
   "metadata": {
    "tags": []
   },
   "outputs": [],
   "source": [
    "# Chia dữ liệu thành tập huấn luyện và tập kiểm tra\n",
    "X_train, X_test, y_train, y_test = train_test_split(X, y, test_size=0.3, random_state=42)"
   ]
  },
  {
   "cell_type": "code",
   "execution_count": 45,
   "id": "f2e7d8d8-8dec-407b-842e-282bb602b1bf",
   "metadata": {
    "tags": []
   },
   "outputs": [],
   "source": [
    "# Khởi tạo mô hình Logistic Regression\n",
    "logreg_model = LogisticRegression(max_iter=100,tol=1e-4)\n",
    "\n",
    "# Huấn luyện mô hình trên tập huấn luyện\n",
    "logreg_model.fit(X_train, y_train)\n",
    "\n",
    "# Dự đoán nhãn của dữ liệu kiểm tra\n",
    "y_pred = logreg_model.predict(X_test)"
   ]
  },
  {
   "cell_type": "code",
   "execution_count": 46,
   "id": "f67f40bf-429d-4fbf-87e8-f331cf716a52",
   "metadata": {},
   "outputs": [
    {
     "name": "stdout",
     "output_type": "stream",
     "text": [
      "Accuracy: 77.90 %\n",
      "\n",
      "Classification Report:\n",
      "              precision    recall  f1-score   support\n",
      "\n",
      "           0       0.83      0.88      0.85      1539\n",
      "           1       0.61      0.51      0.56       574\n",
      "\n",
      "    accuracy                           0.78      2113\n",
      "   macro avg       0.72      0.69      0.70      2113\n",
      "weighted avg       0.77      0.78      0.77      2113\n",
      "\n",
      "\n",
      "Confusion Matrix:\n",
      "[[1354  185]\n",
      " [ 282  292]]\n"
     ]
    }
   ],
   "source": [
    "# Đánh giá hiệu suất của mô hình\n",
    "accuracy = accuracy_score(y_test, y_pred)\n",
    "print(f'Accuracy: {accuracy*100 :.2f}'' %')\n",
    "\n",
    "# In ra confusion matrix và báo cáo classification\n",
    "print('\\nClassification Report:')\n",
    "print(classification_report(y_test, y_pred))\n",
    "print('\\nConfusion Matrix:')\n",
    "print(confusion_matrix(y_test, y_pred))"
   ]
  },
  {
   "cell_type": "code",
   "execution_count": 44,
   "id": "73895bee-371b-4635-bbb6-20a3b3a2226f",
   "metadata": {},
   "outputs": [
    {
     "name": "stdout",
     "output_type": "stream",
     "text": [
      "Hàm dự đoán:\n",
      "y_pred = sigmoid([0.37031758] + [[-0.01438485 -0.02844266 -0.46813607 -0.31957117 -1.08303881 -0.01932248]] * X)\n"
     ]
    }
   ],
   "source": [
    "# Lấy ra các hệ số (weights) và intercept từ mô hình\n",
    "weights = logreg_model.coef_\n",
    "intercept =logreg_model.intercept_\n",
    "\n",
    "# In ra hàm dự đoán\n",
    "print(\"Hàm dự đoán:\")\n",
    "print(f\"y_pred = sigmoid({intercept} + {weights} * X)\")\n"
   ]
  },
  {
   "cell_type": "code",
   "execution_count": 30,
   "id": "4f772734-a187-417a-bb04-6d93dc5fa6ae",
   "metadata": {},
   "outputs": [
    {
     "name": "stdout",
     "output_type": "stream",
     "text": [
      "Dự báo khách hàng X1 bằng mô hình Hồi Quy Logitic: Yes\n"
     ]
    }
   ],
   "source": [
    "X1 = {\n",
    "    'tenure': 5,\n",
    "    'InternetService': 1,\n",
    "    'OnlineSecurity': 0,\n",
    "    'TechSupport': 0,\n",
    "    'Contract': 0,\n",
    "    'PaymentMethod':3\n",
    "}\n",
    "\n",
    "X1_df = pd.DataFrame(X1, index=[0])\n",
    "\n",
    "Y1 = logreg_model.predict(X1_df)\n",
    "if Y1 == 0:\n",
    "    print(\"Dự báo khách hàng X1 bằng mô hình Hồi Quy Logitic: No\")\n",
    "else: \n",
    "    print(\"Dự báo khách hàng X1 bằng mô hình Hồi Quy Logitic: Yes\")"
   ]
  },
  {
   "cell_type": "code",
   "execution_count": 31,
   "id": "015f35d8-1ac9-4753-908b-5b664949fbab",
   "metadata": {},
   "outputs": [
    {
     "data": {
      "image/png": "[encoded data removed]",
      "text/plain": [
       "<Figure size 800x600 with 1 Axes>"
      ]
     },
     "metadata": {},
     "output_type": "display_data"
    }
   ],
   "source": [
    "from sklearn.metrics import roc_curve, auc\n",
    "import matplotlib.pyplot as plt\n",
    "X_test = X_test.astype(int)\n",
    "# Dự đoán xác suất và tính toán ROC\n",
    "y_scores = logreg_model.predict_proba(X_test)[:, 1]  # Lấy xác suất của lớp positive\n",
    "fpr, tpr, thresholds = roc_curve(y_test, y_scores)\n",
    "roc_auc = auc(fpr, tpr)\n",
    "\n",
    "# Vẽ đồ thị ROC\n",
    "plt.figure(figsize=(8, 6))\n",
    "plt.plot(fpr, tpr, color='darkorange', lw=2, label='ROC curve (area = %0.2f)' % roc_auc)\n",
    "plt.plot([0, 1], [0, 1], color='navy', lw=2, linestyle='--')\n",
    "plt.xlim([0.0, 1.0])\n",
    "plt.ylim([0.0, 1.05])\n",
    "plt.xlabel('False Positive Rate')\n",
    "plt.ylabel('True Positive Rate')\n",
    "plt.title('Receiver Operating Characteristic (ROC)')\n",
    "plt.legend(loc=\"lower right\")\n",
    "plt.show()"
   ]
  },
  {
   "cell_type": "code",
   "execution_count": 32,
   "id": "a0098405-9486-423a-b95e-c81a0eadf8e6",
   "metadata": {},
   "outputs": [
    {
     "name": "stdout",
     "output_type": "stream",
     "text": [
      "Intercept: [0.37031758]\n",
      "Coefficients: [[-0.01438485 -0.02844266 -0.46813607 -0.31957117 -1.08303881 -0.01932248]]\n",
      "Number of iterations: [40]\n"
     ]
    }
   ],
   "source": [
    "from sklearn.linear_model import LogisticRegression\n",
    "\n",
    "# Khởi tạo mô hình Logistic Regression\n",
    "model = LogisticRegression(tol=1e-4)\n",
    "\n",
    "# Huấn luyện mô hình\n",
    "model.fit(X_train, y_train)\n",
    "\n",
    "# In ra các thông số của mô hình sau khi huấn luyện\n",
    "print(\"Intercept:\", model.intercept_)\n",
    "print(\"Coefficients:\", model.coef_)\n",
    "print(\"Number of iterations:\", model.n_iter_)"
   ]
  },
  {
   "cell_type": "code",
   "execution_count": null,
   "id": "c0b20e8d-0239-4604-a512-e5a9fcadb690",
   "metadata": {},
   "outputs": [],
   "source": []
  },
  {
   "cell_type": "code",
   "execution_count": null,
   "id": "b862f7bd-68d0-433b-9474-47a2f33a53c0",
   "metadata": {},
   "outputs": [],
   "source": []
  }
 ],
 "metadata": {
  "kernelspec": {
   "display_name": "Python 3 (ipykernel)",
   "language": "python",
   "name": "python3"
  },
  "language_info": {
   "codemirror_mode": {
    "name": "ipython",
    "version": 3
   },
   "file_extension": ".py",
   "mimetype": "text/x-python",
   "name": "python",
   "nbconvert_exporter": "python",
   "pygments_lexer": "ipython3",
   "version": "3.12.4"
  }
 },
 "nbformat": 4,
 "nbformat_minor": 5
}
