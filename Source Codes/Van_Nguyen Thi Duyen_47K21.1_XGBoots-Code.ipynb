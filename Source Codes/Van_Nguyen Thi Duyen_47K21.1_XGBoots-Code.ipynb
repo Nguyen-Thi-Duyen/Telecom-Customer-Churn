{
 "cells": [
  {
   "cell_type": "code",
   "execution_count": 264,
   "id": "07da3198-942c-4bd1-8f4b-571f53849a9c",
   "metadata": {},
   "outputs": [
    {
     "name": "stderr",
     "output_type": "stream",
     "text": [
      "<>:7: SyntaxWarning: invalid escape sequence '\\T'\n",
      "<>:7: SyntaxWarning: invalid escape sequence '\\T'\n",
      "C:\\Users\\ADMIN\\AppData\\Local\\Temp\\ipykernel_21664\\2543712613.py:7: SyntaxWarning: invalid escape sequence '\\T'\n",
      "  df = pd.read_excel('D:\\Thực tập nghề nghiệp\\DA_Khách hàng rời bỏ dịch vụ\\Customer_Churn_TXL2.xlsx')\n"
     ]
    },
    {
     "data": {
      "text/html": [
       "<div>\n",
       "<style scoped>\n",
       "    .dataframe tbody tr th:only-of-type {\n",
       "        vertical-align: middle;\n",
       "    }\n",
       "\n",
       "    .dataframe tbody tr th {\n",
       "        vertical-align: top;\n",
       "    }\n",
       "\n",
       "    .dataframe thead th {\n",
       "        text-align: right;\n",
       "    }\n",
       "</style>\n",
       "<table border=\"1\" class=\"dataframe\">\n",
       "  <thead>\n",
       "    <tr style=\"text-align: right;\">\n",
       "      <th></th>\n",
       "      <th>Churn</th>\n",
       "      <th>tenure</th>\n",
       "      <th>InternetService</th>\n",
       "      <th>OnlineSecurity</th>\n",
       "      <th>TechSupport</th>\n",
       "      <th>Contract</th>\n",
       "      <th>PaymentMethod</th>\n",
       "    </tr>\n",
       "  </thead>\n",
       "  <tbody>\n",
       "    <tr>\n",
       "      <th>0</th>\n",
       "      <td>0</td>\n",
       "      <td>1</td>\n",
       "      <td>0</td>\n",
       "      <td>0</td>\n",
       "      <td>0</td>\n",
       "      <td>0</td>\n",
       "      <td>2</td>\n",
       "    </tr>\n",
       "    <tr>\n",
       "      <th>1</th>\n",
       "      <td>0</td>\n",
       "      <td>34</td>\n",
       "      <td>0</td>\n",
       "      <td>2</td>\n",
       "      <td>0</td>\n",
       "      <td>1</td>\n",
       "      <td>3</td>\n",
       "    </tr>\n",
       "    <tr>\n",
       "      <th>2</th>\n",
       "      <td>1</td>\n",
       "      <td>2</td>\n",
       "      <td>0</td>\n",
       "      <td>2</td>\n",
       "      <td>0</td>\n",
       "      <td>0</td>\n",
       "      <td>3</td>\n",
       "    </tr>\n",
       "    <tr>\n",
       "      <th>3</th>\n",
       "      <td>0</td>\n",
       "      <td>45</td>\n",
       "      <td>0</td>\n",
       "      <td>2</td>\n",
       "      <td>2</td>\n",
       "      <td>1</td>\n",
       "      <td>0</td>\n",
       "    </tr>\n",
       "    <tr>\n",
       "      <th>4</th>\n",
       "      <td>1</td>\n",
       "      <td>2</td>\n",
       "      <td>1</td>\n",
       "      <td>0</td>\n",
       "      <td>0</td>\n",
       "      <td>0</td>\n",
       "      <td>2</td>\n",
       "    </tr>\n",
       "  </tbody>\n",
       "</table>\n",
       "</div>"
      ],
      "text/plain": [
       "   Churn  tenure  InternetService  OnlineSecurity  TechSupport  Contract  \\\n",
       "0      0       1                0               0            0         0   \n",
       "1      0      34                0               2            0         1   \n",
       "2      1       2                0               2            0         0   \n",
       "3      0      45                0               2            2         1   \n",
       "4      1       2                1               0            0         0   \n",
       "\n",
       "   PaymentMethod  \n",
       "0              2  \n",
       "1              3  \n",
       "2              3  \n",
       "3              0  \n",
       "4              2  "
      ]
     },
     "execution_count": 264,
     "metadata": {},
     "output_type": "execute_result"
    }
   ],
   "source": [
    "import pandas as pd\n",
    "import numpy as np\n",
    "from sklearn.model_selection import train_test_split\n",
    "from xgboost import XGBClassifier\n",
    "from sklearn.metrics import accuracy_score, classification_report, confusion_matrix\n",
    "\n",
    "df = pd.read_excel('D:\\Thực tập nghề nghiệp\\DA_Khách hàng rời bỏ dịch vụ\\Customer_Churn_TXL2.xlsx')\n",
    "df.head()"
   ]
  },
  {
   "cell_type": "code",
   "execution_count": 265,
   "id": "1f6ee22c-34be-4a27-a0f7-0c6608d24d1d",
   "metadata": {},
   "outputs": [],
   "source": [
    "# Chia dữ liệu thành features (X) và target (y)\n",
    "X = df.drop(['Churn'], axis=1)\n",
    "y = df['Churn']"
   ]
  },
  {
   "cell_type": "code",
   "execution_count": 266,
   "id": "9408deeb-5f88-4e51-94c8-1bb9723bf48d",
   "metadata": {},
   "outputs": [],
   "source": [
    "# Chia bộ dữ liệu\n",
    "X_train, X_test, y_train, y_test = train_test_split(X, y, test_size=0.3)"
   ]
  },
  {
   "cell_type": "code",
   "execution_count": 267,
   "id": "4dbf8382-7fa6-4d14-85bb-09e2a5a85afd",
   "metadata": {},
   "outputs": [],
   "source": [
    "# Xây dựng mô hình XGBoost\n",
    "xgboost_model = XGBClassifier(objective='binary:logistic', max_depth = 3, learning_rate=0.1, n_estimators=99)\n",
    "xgboost_model.fit(X_train, y_train)\n",
    "\n",
    "# Dự đoán trên tập test\n",
    "y_pred = xgboost_model.predict(X_test)\n"
   ]
  },
  {
   "cell_type": "code",
   "execution_count": 268,
   "id": "c40d9d4e-14f8-4d08-a29b-b7142ccdf67d",
   "metadata": {},
   "outputs": [
    {
     "name": "stdout",
     "output_type": "stream",
     "text": [
      "MÔ HÌNH XGBoost\":\n",
      "Accuracy: 79.79\n",
      "\n",
      "Classification Report:\n",
      "              precision    recall  f1-score   support\n",
      "\n",
      "           0       0.83      0.91      0.87      1544\n",
      "           1       0.67      0.50      0.57       569\n",
      "\n",
      "    accuracy                           0.80      2113\n",
      "   macro avg       0.75      0.70      0.72      2113\n",
      "weighted avg       0.79      0.80      0.79      2113\n",
      "\n",
      "\n",
      "Confusion Matrix:\n",
      "[[1403  141]\n",
      " [ 286  283]]\n"
     ]
    }
   ],
   "source": [
    "# Đánh giá hiệu suất của mô hình\n",
    "print('MÔ HÌNH XGBoost\":')\n",
    "accuracy = accuracy_score(y_test, y_pred)\n",
    "print(f'Accuracy: {accuracy*100:.2f}')\n",
    "\n",
    "# In ra confusion matrix và báo cáo classification\n",
    "print('\\nClassification Report:')\n",
    "print(classification_report(y_test, y_pred))\n",
    "print('\\nConfusion Matrix:')\n",
    "print(confusion_matrix(y_test, y_pred))"
   ]
  },
  {
   "cell_type": "code",
   "execution_count": 263,
   "id": "4754379d-c51a-4950-8b6a-b410db45f108",
   "metadata": {},
   "outputs": [
    {
     "data": {
      "image/png": "[encoded data removed]",
      "text/plain": [
       "<Figure size 400x300 with 1 Axes>"
      ]
     },
     "metadata": {},
     "output_type": "display_data"
    }
   ],
   "source": [
    "from sklearn.metrics import roc_curve, auc\n",
    "import matplotlib.pyplot as plt\n",
    "X_test = X_test.astype(int)\n",
    "# Dự đoán xác suất và tính toán ROC\n",
    "y_scores = xgboost_model.predict_proba(X_test)[:, 1]  # Lấy xác suất của lớp positive\n",
    "fpr, tpr, thresholds = roc_curve(y_test, y_scores)\n",
    "roc_auc = auc(fpr, tpr)\n",
    "\n",
    "# Vẽ đồ thị ROC\n",
    "plt.figure(figsize=(4, 3))\n",
    "plt.plot(fpr, tpr, color='darkorange', lw=2, label='ROC curve (area = %0.2f)' % roc_auc)\n",
    "plt.plot([0, 1], [0, 1], color='navy', lw=2, linestyle='--')\n",
    "plt.xlim([0.0, 1.0])\n",
    "plt.ylim([0.0, 1.05])\n",
    "plt.xlabel('False Positive Rate')\n",
    "plt.ylabel('True Positive Rate')\n",
    "plt.title('Receiver Operating Characteristic (ROC)')\n",
    "plt.legend(loc=\"lower right\")\n",
    "plt.show()"
   ]
  },
  {
   "cell_type": "code",
   "execution_count": null,
   "id": "434c6eaf-c0a3-4e5d-bd5c-f8a3e55c81b7",
   "metadata": {},
   "outputs": [],
   "source": []
  },
  {
   "cell_type": "code",
   "execution_count": null,
   "id": "71f28c19-8e7f-4d86-8dbd-d67d69cd2d94",
   "metadata": {},
   "outputs": [],
   "source": []
  }
 ],
 "metadata": {
  "kernelspec": {
   "display_name": "Python 3 (ipykernel)",
   "language": "python",
   "name": "python3"
  },
  "language_info": {
   "codemirror_mode": {
    "name": "ipython",
    "version": 3
   },
   "file_extension": ".py",
   "mimetype": "text/x-python",
   "name": "python",
   "nbconvert_exporter": "python",
   "pygments_lexer": "ipython3",
   "version": "3.12.4"
  }
 },
 "nbformat": 4,
 "nbformat_minor": 5
}
